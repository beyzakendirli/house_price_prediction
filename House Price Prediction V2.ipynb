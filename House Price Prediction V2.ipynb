{
 "cells": [
  {
   "cell_type": "code",
   "execution_count": 1,
   "id": "fb581c4b",
   "metadata": {},
   "outputs": [],
   "source": [
    "#Udacity House Price Prediction Project"
   ]
  },
  {
   "cell_type": "code",
   "execution_count": 1,
   "id": "452475f6",
   "metadata": {},
   "outputs": [],
   "source": [
    "#Business Understanding (a brief description of the problem and questions of interest/null hypotheses)\n",
    "#In that case, my business is a real estate agency. They want to scale up their customer scope \n",
    "#to increase their revenue by meeting the correct customer with the correct house. \n",
    "#To be able to achieve this target, they should dominate the prices of all houses in the market.\n",
    "#I'll train a prediction model for them to be succeed."
   ]
  },
  {
   "cell_type": "code",
   "execution_count": 2,
   "id": "61acfa94",
   "metadata": {},
   "outputs": [
    {
     "name": "stdout",
     "output_type": "stream",
     "text": [
      "C:/Users/admKendirliB/data.csv\n"
     ]
    }
   ],
   "source": [
    "import pandas as pd\n",
    "import numpy as np\n",
    "import seaborn as sns\n",
    "import matplotlib.pyplot as plt\n",
    "from sklearn.linear_model import LinearRegression\n",
    "from sklearn.model_selection import train_test_split\n",
    "from sklearn.metrics import r2_score, mean_squared_error\n",
    "\n",
    "\n",
    "filename = \"C:/Users/admKendirliB/data.csv\"\n",
    "print(filename)\n",
    "df = pd.read_csv(filename)"
   ]
  },
  {
   "cell_type": "code",
   "execution_count": 406,
   "id": "78a6fb6c",
   "metadata": {},
   "outputs": [],
   "source": [
    "#let's get familiar with data"
   ]
  },
  {
   "cell_type": "code",
   "execution_count": 3,
   "id": "630273de",
   "metadata": {},
   "outputs": [],
   "source": [
    "#Data Understanding (access and explore)"
   ]
  },
  {
   "cell_type": "code",
   "execution_count": 4,
   "id": "b5bf3e66",
   "metadata": {},
   "outputs": [
    {
     "data": {
      "text/html": [
       "<div>\n",
       "<style scoped>\n",
       "    .dataframe tbody tr th:only-of-type {\n",
       "        vertical-align: middle;\n",
       "    }\n",
       "\n",
       "    .dataframe tbody tr th {\n",
       "        vertical-align: top;\n",
       "    }\n",
       "\n",
       "    .dataframe thead th {\n",
       "        text-align: right;\n",
       "    }\n",
       "</style>\n",
       "<table border=\"1\" class=\"dataframe\">\n",
       "  <thead>\n",
       "    <tr style=\"text-align: right;\">\n",
       "      <th></th>\n",
       "      <th>date</th>\n",
       "      <th>price</th>\n",
       "      <th>bedrooms</th>\n",
       "      <th>bathrooms</th>\n",
       "      <th>sqft_living</th>\n",
       "      <th>sqft_lot</th>\n",
       "      <th>floors</th>\n",
       "      <th>waterfront</th>\n",
       "      <th>view</th>\n",
       "      <th>condition</th>\n",
       "      <th>sqft_above</th>\n",
       "      <th>sqft_basement</th>\n",
       "      <th>yr_built</th>\n",
       "      <th>yr_renovated</th>\n",
       "      <th>street</th>\n",
       "      <th>city</th>\n",
       "      <th>statezip</th>\n",
       "      <th>country</th>\n",
       "    </tr>\n",
       "  </thead>\n",
       "  <tbody>\n",
       "    <tr>\n",
       "      <th>0</th>\n",
       "      <td>2014-05-02 00:00:00</td>\n",
       "      <td>313000.0</td>\n",
       "      <td>3.0</td>\n",
       "      <td>1.50</td>\n",
       "      <td>1340</td>\n",
       "      <td>7912</td>\n",
       "      <td>1.5</td>\n",
       "      <td>0</td>\n",
       "      <td>0</td>\n",
       "      <td>3</td>\n",
       "      <td>1340</td>\n",
       "      <td>0</td>\n",
       "      <td>1955</td>\n",
       "      <td>2005</td>\n",
       "      <td>18810 Densmore Ave N</td>\n",
       "      <td>Shoreline</td>\n",
       "      <td>WA 98133</td>\n",
       "      <td>USA</td>\n",
       "    </tr>\n",
       "    <tr>\n",
       "      <th>1</th>\n",
       "      <td>2014-05-02 00:00:00</td>\n",
       "      <td>2384000.0</td>\n",
       "      <td>5.0</td>\n",
       "      <td>2.50</td>\n",
       "      <td>3650</td>\n",
       "      <td>9050</td>\n",
       "      <td>2.0</td>\n",
       "      <td>0</td>\n",
       "      <td>4</td>\n",
       "      <td>5</td>\n",
       "      <td>3370</td>\n",
       "      <td>280</td>\n",
       "      <td>1921</td>\n",
       "      <td>0</td>\n",
       "      <td>709 W Blaine St</td>\n",
       "      <td>Seattle</td>\n",
       "      <td>WA 98119</td>\n",
       "      <td>USA</td>\n",
       "    </tr>\n",
       "    <tr>\n",
       "      <th>2</th>\n",
       "      <td>2014-05-02 00:00:00</td>\n",
       "      <td>342000.0</td>\n",
       "      <td>3.0</td>\n",
       "      <td>2.00</td>\n",
       "      <td>1930</td>\n",
       "      <td>11947</td>\n",
       "      <td>1.0</td>\n",
       "      <td>0</td>\n",
       "      <td>0</td>\n",
       "      <td>4</td>\n",
       "      <td>1930</td>\n",
       "      <td>0</td>\n",
       "      <td>1966</td>\n",
       "      <td>0</td>\n",
       "      <td>26206-26214 143rd Ave SE</td>\n",
       "      <td>Kent</td>\n",
       "      <td>WA 98042</td>\n",
       "      <td>USA</td>\n",
       "    </tr>\n",
       "    <tr>\n",
       "      <th>3</th>\n",
       "      <td>2014-05-02 00:00:00</td>\n",
       "      <td>420000.0</td>\n",
       "      <td>3.0</td>\n",
       "      <td>2.25</td>\n",
       "      <td>2000</td>\n",
       "      <td>8030</td>\n",
       "      <td>1.0</td>\n",
       "      <td>0</td>\n",
       "      <td>0</td>\n",
       "      <td>4</td>\n",
       "      <td>1000</td>\n",
       "      <td>1000</td>\n",
       "      <td>1963</td>\n",
       "      <td>0</td>\n",
       "      <td>857 170th Pl NE</td>\n",
       "      <td>Bellevue</td>\n",
       "      <td>WA 98008</td>\n",
       "      <td>USA</td>\n",
       "    </tr>\n",
       "    <tr>\n",
       "      <th>4</th>\n",
       "      <td>2014-05-02 00:00:00</td>\n",
       "      <td>550000.0</td>\n",
       "      <td>4.0</td>\n",
       "      <td>2.50</td>\n",
       "      <td>1940</td>\n",
       "      <td>10500</td>\n",
       "      <td>1.0</td>\n",
       "      <td>0</td>\n",
       "      <td>0</td>\n",
       "      <td>4</td>\n",
       "      <td>1140</td>\n",
       "      <td>800</td>\n",
       "      <td>1976</td>\n",
       "      <td>1992</td>\n",
       "      <td>9105 170th Ave NE</td>\n",
       "      <td>Redmond</td>\n",
       "      <td>WA 98052</td>\n",
       "      <td>USA</td>\n",
       "    </tr>\n",
       "  </tbody>\n",
       "</table>\n",
       "</div>"
      ],
      "text/plain": [
       "                  date      price  bedrooms  bathrooms  sqft_living  sqft_lot  \\\n",
       "0  2014-05-02 00:00:00   313000.0       3.0       1.50         1340      7912   \n",
       "1  2014-05-02 00:00:00  2384000.0       5.0       2.50         3650      9050   \n",
       "2  2014-05-02 00:00:00   342000.0       3.0       2.00         1930     11947   \n",
       "3  2014-05-02 00:00:00   420000.0       3.0       2.25         2000      8030   \n",
       "4  2014-05-02 00:00:00   550000.0       4.0       2.50         1940     10500   \n",
       "\n",
       "   floors  waterfront  view  condition  sqft_above  sqft_basement  yr_built  \\\n",
       "0     1.5           0     0          3        1340              0      1955   \n",
       "1     2.0           0     4          5        3370            280      1921   \n",
       "2     1.0           0     0          4        1930              0      1966   \n",
       "3     1.0           0     0          4        1000           1000      1963   \n",
       "4     1.0           0     0          4        1140            800      1976   \n",
       "\n",
       "   yr_renovated                    street       city  statezip country  \n",
       "0          2005      18810 Densmore Ave N  Shoreline  WA 98133     USA  \n",
       "1             0           709 W Blaine St    Seattle  WA 98119     USA  \n",
       "2             0  26206-26214 143rd Ave SE       Kent  WA 98042     USA  \n",
       "3             0           857 170th Pl NE   Bellevue  WA 98008     USA  \n",
       "4          1992         9105 170th Ave NE    Redmond  WA 98052     USA  "
      ]
     },
     "execution_count": 4,
     "metadata": {},
     "output_type": "execute_result"
    }
   ],
   "source": [
    "df.head()"
   ]
  },
  {
   "cell_type": "code",
   "execution_count": 29,
   "id": "9205955d",
   "metadata": {},
   "outputs": [
    {
     "data": {
      "text/plain": [
       "(4600, 18)"
      ]
     },
     "execution_count": 29,
     "metadata": {},
     "output_type": "execute_result"
    }
   ],
   "source": [
    "df.shape"
   ]
  },
  {
   "cell_type": "code",
   "execution_count": 30,
   "id": "1572a4cb",
   "metadata": {},
   "outputs": [
    {
     "data": {
      "text/plain": [
       "Index(['date', 'price', 'bedrooms', 'bathrooms', 'sqft_living', 'sqft_lot',\n",
       "       'floors', 'waterfront', 'view', 'condition', 'sqft_above',\n",
       "       'sqft_basement', 'yr_built', 'yr_renovated', 'street', 'city',\n",
       "       'statezip', 'country'],\n",
       "      dtype='object')"
      ]
     },
     "execution_count": 30,
     "metadata": {},
     "output_type": "execute_result"
    }
   ],
   "source": [
    "df.columns"
   ]
  },
  {
   "cell_type": "code",
   "execution_count": 166,
   "id": "f4fe543f",
   "metadata": {},
   "outputs": [
    {
     "name": "stdout",
     "output_type": "stream",
     "text": [
      "<class 'pandas.core.frame.DataFrame'>\n",
      "RangeIndex: 4600 entries, 0 to 4599\n",
      "Data columns (total 18 columns):\n",
      " #   Column         Non-Null Count  Dtype  \n",
      "---  ------         --------------  -----  \n",
      " 0   date           4600 non-null   object \n",
      " 1   price          4600 non-null   float64\n",
      " 2   bedrooms       4600 non-null   float64\n",
      " 3   bathrooms      4600 non-null   float64\n",
      " 4   sqft_living    4600 non-null   int64  \n",
      " 5   sqft_lot       4600 non-null   int64  \n",
      " 6   floors         4600 non-null   float64\n",
      " 7   waterfront     4600 non-null   int64  \n",
      " 8   view           4600 non-null   int64  \n",
      " 9   condition      4600 non-null   int64  \n",
      " 10  sqft_above     4600 non-null   int64  \n",
      " 11  sqft_basement  4600 non-null   int64  \n",
      " 12  yr_built       4600 non-null   int64  \n",
      " 13  yr_renovated   4600 non-null   int64  \n",
      " 14  street         4600 non-null   object \n",
      " 15  city           4600 non-null   object \n",
      " 16  statezip       4600 non-null   object \n",
      " 17  country        4600 non-null   object \n",
      "dtypes: float64(4), int64(9), object(5)\n",
      "memory usage: 647.0+ KB\n"
     ]
    }
   ],
   "source": [
    "df.info() "
   ]
  },
  {
   "cell_type": "code",
   "execution_count": 5,
   "id": "6924a948",
   "metadata": {},
   "outputs": [],
   "source": [
    "#Data Preparation (cleaning) (not necessary for our dataset)"
   ]
  },
  {
   "cell_type": "code",
   "execution_count": 6,
   "id": "c81d4c42",
   "metadata": {},
   "outputs": [
    {
     "data": {
      "text/plain": [
       "date             4600\n",
       "price            4600\n",
       "bedrooms         4600\n",
       "bathrooms        4600\n",
       "sqft_living      4600\n",
       "sqft_lot         4600\n",
       "floors           4600\n",
       "waterfront       4600\n",
       "view             4600\n",
       "condition        4600\n",
       "sqft_above       4600\n",
       "sqft_basement    4600\n",
       "yr_built         4600\n",
       "yr_renovated     4600\n",
       "street           4600\n",
       "city             4600\n",
       "statezip         4600\n",
       "country          4600\n",
       "dtype: int64"
      ]
     },
     "execution_count": 6,
     "metadata": {},
     "output_type": "execute_result"
    }
   ],
   "source": [
    "df.count()"
   ]
  },
  {
   "cell_type": "code",
   "execution_count": 7,
   "id": "6f02c381",
   "metadata": {},
   "outputs": [
    {
     "data": {
      "text/html": [
       "<div>\n",
       "<style scoped>\n",
       "    .dataframe tbody tr th:only-of-type {\n",
       "        vertical-align: middle;\n",
       "    }\n",
       "\n",
       "    .dataframe tbody tr th {\n",
       "        vertical-align: top;\n",
       "    }\n",
       "\n",
       "    .dataframe thead th {\n",
       "        text-align: right;\n",
       "    }\n",
       "</style>\n",
       "<table border=\"1\" class=\"dataframe\">\n",
       "  <thead>\n",
       "    <tr style=\"text-align: right;\">\n",
       "      <th></th>\n",
       "      <th>price</th>\n",
       "      <th>bedrooms</th>\n",
       "      <th>bathrooms</th>\n",
       "      <th>sqft_living</th>\n",
       "      <th>sqft_lot</th>\n",
       "      <th>floors</th>\n",
       "      <th>waterfront</th>\n",
       "      <th>view</th>\n",
       "      <th>condition</th>\n",
       "      <th>sqft_above</th>\n",
       "      <th>sqft_basement</th>\n",
       "      <th>yr_built</th>\n",
       "      <th>yr_renovated</th>\n",
       "    </tr>\n",
       "  </thead>\n",
       "  <tbody>\n",
       "    <tr>\n",
       "      <th>count</th>\n",
       "      <td>4.600000e+03</td>\n",
       "      <td>4600.000000</td>\n",
       "      <td>4600.000000</td>\n",
       "      <td>4600.000000</td>\n",
       "      <td>4.600000e+03</td>\n",
       "      <td>4600.000000</td>\n",
       "      <td>4600.000000</td>\n",
       "      <td>4600.000000</td>\n",
       "      <td>4600.000000</td>\n",
       "      <td>4600.000000</td>\n",
       "      <td>4600.000000</td>\n",
       "      <td>4600.000000</td>\n",
       "      <td>4600.000000</td>\n",
       "    </tr>\n",
       "    <tr>\n",
       "      <th>mean</th>\n",
       "      <td>5.519630e+05</td>\n",
       "      <td>3.400870</td>\n",
       "      <td>2.160815</td>\n",
       "      <td>2139.346957</td>\n",
       "      <td>1.485252e+04</td>\n",
       "      <td>1.512065</td>\n",
       "      <td>0.007174</td>\n",
       "      <td>0.240652</td>\n",
       "      <td>3.451739</td>\n",
       "      <td>1827.265435</td>\n",
       "      <td>312.081522</td>\n",
       "      <td>1970.786304</td>\n",
       "      <td>808.608261</td>\n",
       "    </tr>\n",
       "    <tr>\n",
       "      <th>std</th>\n",
       "      <td>5.638347e+05</td>\n",
       "      <td>0.908848</td>\n",
       "      <td>0.783781</td>\n",
       "      <td>963.206916</td>\n",
       "      <td>3.588444e+04</td>\n",
       "      <td>0.538288</td>\n",
       "      <td>0.084404</td>\n",
       "      <td>0.778405</td>\n",
       "      <td>0.677230</td>\n",
       "      <td>862.168977</td>\n",
       "      <td>464.137228</td>\n",
       "      <td>29.731848</td>\n",
       "      <td>979.414536</td>\n",
       "    </tr>\n",
       "    <tr>\n",
       "      <th>min</th>\n",
       "      <td>0.000000e+00</td>\n",
       "      <td>0.000000</td>\n",
       "      <td>0.000000</td>\n",
       "      <td>370.000000</td>\n",
       "      <td>6.380000e+02</td>\n",
       "      <td>1.000000</td>\n",
       "      <td>0.000000</td>\n",
       "      <td>0.000000</td>\n",
       "      <td>1.000000</td>\n",
       "      <td>370.000000</td>\n",
       "      <td>0.000000</td>\n",
       "      <td>1900.000000</td>\n",
       "      <td>0.000000</td>\n",
       "    </tr>\n",
       "    <tr>\n",
       "      <th>25%</th>\n",
       "      <td>3.228750e+05</td>\n",
       "      <td>3.000000</td>\n",
       "      <td>1.750000</td>\n",
       "      <td>1460.000000</td>\n",
       "      <td>5.000750e+03</td>\n",
       "      <td>1.000000</td>\n",
       "      <td>0.000000</td>\n",
       "      <td>0.000000</td>\n",
       "      <td>3.000000</td>\n",
       "      <td>1190.000000</td>\n",
       "      <td>0.000000</td>\n",
       "      <td>1951.000000</td>\n",
       "      <td>0.000000</td>\n",
       "    </tr>\n",
       "    <tr>\n",
       "      <th>50%</th>\n",
       "      <td>4.609435e+05</td>\n",
       "      <td>3.000000</td>\n",
       "      <td>2.250000</td>\n",
       "      <td>1980.000000</td>\n",
       "      <td>7.683000e+03</td>\n",
       "      <td>1.500000</td>\n",
       "      <td>0.000000</td>\n",
       "      <td>0.000000</td>\n",
       "      <td>3.000000</td>\n",
       "      <td>1590.000000</td>\n",
       "      <td>0.000000</td>\n",
       "      <td>1976.000000</td>\n",
       "      <td>0.000000</td>\n",
       "    </tr>\n",
       "    <tr>\n",
       "      <th>75%</th>\n",
       "      <td>6.549625e+05</td>\n",
       "      <td>4.000000</td>\n",
       "      <td>2.500000</td>\n",
       "      <td>2620.000000</td>\n",
       "      <td>1.100125e+04</td>\n",
       "      <td>2.000000</td>\n",
       "      <td>0.000000</td>\n",
       "      <td>0.000000</td>\n",
       "      <td>4.000000</td>\n",
       "      <td>2300.000000</td>\n",
       "      <td>610.000000</td>\n",
       "      <td>1997.000000</td>\n",
       "      <td>1999.000000</td>\n",
       "    </tr>\n",
       "    <tr>\n",
       "      <th>max</th>\n",
       "      <td>2.659000e+07</td>\n",
       "      <td>9.000000</td>\n",
       "      <td>8.000000</td>\n",
       "      <td>13540.000000</td>\n",
       "      <td>1.074218e+06</td>\n",
       "      <td>3.500000</td>\n",
       "      <td>1.000000</td>\n",
       "      <td>4.000000</td>\n",
       "      <td>5.000000</td>\n",
       "      <td>9410.000000</td>\n",
       "      <td>4820.000000</td>\n",
       "      <td>2014.000000</td>\n",
       "      <td>2014.000000</td>\n",
       "    </tr>\n",
       "  </tbody>\n",
       "</table>\n",
       "</div>"
      ],
      "text/plain": [
       "              price     bedrooms    bathrooms   sqft_living      sqft_lot  \\\n",
       "count  4.600000e+03  4600.000000  4600.000000   4600.000000  4.600000e+03   \n",
       "mean   5.519630e+05     3.400870     2.160815   2139.346957  1.485252e+04   \n",
       "std    5.638347e+05     0.908848     0.783781    963.206916  3.588444e+04   \n",
       "min    0.000000e+00     0.000000     0.000000    370.000000  6.380000e+02   \n",
       "25%    3.228750e+05     3.000000     1.750000   1460.000000  5.000750e+03   \n",
       "50%    4.609435e+05     3.000000     2.250000   1980.000000  7.683000e+03   \n",
       "75%    6.549625e+05     4.000000     2.500000   2620.000000  1.100125e+04   \n",
       "max    2.659000e+07     9.000000     8.000000  13540.000000  1.074218e+06   \n",
       "\n",
       "            floors   waterfront         view    condition   sqft_above  \\\n",
       "count  4600.000000  4600.000000  4600.000000  4600.000000  4600.000000   \n",
       "mean      1.512065     0.007174     0.240652     3.451739  1827.265435   \n",
       "std       0.538288     0.084404     0.778405     0.677230   862.168977   \n",
       "min       1.000000     0.000000     0.000000     1.000000   370.000000   \n",
       "25%       1.000000     0.000000     0.000000     3.000000  1190.000000   \n",
       "50%       1.500000     0.000000     0.000000     3.000000  1590.000000   \n",
       "75%       2.000000     0.000000     0.000000     4.000000  2300.000000   \n",
       "max       3.500000     1.000000     4.000000     5.000000  9410.000000   \n",
       "\n",
       "       sqft_basement     yr_built  yr_renovated  \n",
       "count    4600.000000  4600.000000   4600.000000  \n",
       "mean      312.081522  1970.786304    808.608261  \n",
       "std       464.137228    29.731848    979.414536  \n",
       "min         0.000000  1900.000000      0.000000  \n",
       "25%         0.000000  1951.000000      0.000000  \n",
       "50%         0.000000  1976.000000      0.000000  \n",
       "75%       610.000000  1997.000000   1999.000000  \n",
       "max      4820.000000  2014.000000   2014.000000  "
      ]
     },
     "execution_count": 7,
     "metadata": {},
     "output_type": "execute_result"
    }
   ],
   "source": [
    "df.describe()"
   ]
  },
  {
   "cell_type": "code",
   "execution_count": 8,
   "id": "588f8784",
   "metadata": {},
   "outputs": [
    {
     "data": {
      "text/plain": [
       "date             2014-07-10 00:00:00\n",
       "price                     26590000.0\n",
       "bedrooms                         9.0\n",
       "bathrooms                        8.0\n",
       "sqft_living                    13540\n",
       "sqft_lot                     1074218\n",
       "floors                           3.5\n",
       "waterfront                         1\n",
       "view                               4\n",
       "condition                          5\n",
       "sqft_above                      9410\n",
       "sqft_basement                   4820\n",
       "yr_built                        2014\n",
       "yr_renovated                    2014\n",
       "street             Valley View Trail\n",
       "city                    Yarrow Point\n",
       "statezip                    WA 98354\n",
       "country                          USA\n",
       "dtype: object"
      ]
     },
     "execution_count": 8,
     "metadata": {},
     "output_type": "execute_result"
    }
   ],
   "source": [
    "df.max()"
   ]
  },
  {
   "cell_type": "code",
   "execution_count": 9,
   "id": "f398d2a6",
   "metadata": {},
   "outputs": [
    {
     "data": {
      "text/plain": [
       "date             2014-05-02 00:00:00\n",
       "price                            0.0\n",
       "bedrooms                         0.0\n",
       "bathrooms                        0.0\n",
       "sqft_living                      370\n",
       "sqft_lot                         638\n",
       "floors                           1.0\n",
       "waterfront                         0\n",
       "view                               0\n",
       "condition                          1\n",
       "sqft_above                       370\n",
       "sqft_basement                      0\n",
       "yr_built                        1900\n",
       "yr_renovated                       0\n",
       "street                  1 View Ln NE\n",
       "city                          Algona\n",
       "statezip                    WA 98001\n",
       "country                          USA\n",
       "dtype: object"
      ]
     },
     "execution_count": 9,
     "metadata": {},
     "output_type": "execute_result"
    }
   ],
   "source": [
    "df.min()"
   ]
  },
  {
   "cell_type": "code",
   "execution_count": 10,
   "id": "cedffc48",
   "metadata": {},
   "outputs": [
    {
     "name": "stdout",
     "output_type": "stream",
     "text": [
      "bedrooms\n",
      "3.0    2032\n",
      "4.0    1531\n",
      "2.0     566\n",
      "5.0     353\n",
      "6.0      61\n",
      "1.0      38\n",
      "7.0      14\n",
      "0.0       2\n",
      "8.0       2\n",
      "9.0       1\n",
      "Name: bedrooms, dtype: int64\n"
     ]
    }
   ],
   "source": [
    "print(df.groupby(['bedrooms'])['bedrooms'].count().sort_values(ascending=False)) \n",
    "#houses mostly have bedrooms between 2 to 5."
   ]
  },
  {
   "cell_type": "code",
   "execution_count": 11,
   "id": "6b609f26",
   "metadata": {},
   "outputs": [
    {
     "data": {
      "image/png": "[encoded data removed]",
      "text/plain": [
       "<Figure size 432x288 with 1 Axes>"
      ]
     },
     "metadata": {
      "needs_background": "light"
     },
     "output_type": "display_data"
    }
   ],
   "source": [
    "plt.hist(df['bedrooms']);"
   ]
  },
  {
   "cell_type": "code",
   "execution_count": 12,
   "id": "2df88a62",
   "metadata": {},
   "outputs": [
    {
     "name": "stdout",
     "output_type": "stream",
     "text": [
      "bathrooms\n",
      "2.50    1189\n",
      "1.00     743\n",
      "1.75     629\n",
      "2.00     427\n",
      "2.25     419\n",
      "1.50     291\n",
      "2.75     276\n",
      "3.00     167\n",
      "3.50     162\n",
      "3.25     136\n",
      "3.75      37\n",
      "4.50      29\n",
      "4.00      23\n",
      "4.25      23\n",
      "0.75      17\n",
      "4.75       7\n",
      "5.00       6\n",
      "5.25       4\n",
      "5.50       4\n",
      "1.25       3\n",
      "6.25       2\n",
      "0.00       2\n",
      "5.75       1\n",
      "6.50       1\n",
      "6.75       1\n",
      "8.00       1\n",
      "Name: bathrooms, dtype: int64\n"
     ]
    }
   ],
   "source": [
    "print(df.groupby(['bathrooms'])['bathrooms'].count().sort_values(ascending=False))\n",
    "#houses mostly have bathrooms between 1 to 4."
   ]
  },
  {
   "cell_type": "code",
   "execution_count": 13,
   "id": "fa001870",
   "metadata": {},
   "outputs": [
    {
     "data": {
      "image/png": "[encoded data removed]",
      "text/plain": [
       "<Figure size 432x288 with 1 Axes>"
      ]
     },
     "metadata": {
      "needs_background": "light"
     },
     "output_type": "display_data"
    }
   ],
   "source": [
    "plt.hist(df['bathrooms']);"
   ]
  },
  {
   "cell_type": "code",
   "execution_count": 14,
   "id": "e6abf1e6",
   "metadata": {},
   "outputs": [
    {
     "name": "stdout",
     "output_type": "stream",
     "text": [
      "floors\n",
      "1.0    2174\n",
      "2.0    1811\n",
      "1.5     444\n",
      "3.0     128\n",
      "2.5      41\n",
      "3.5       2\n",
      "Name: floors, dtype: int64\n"
     ]
    }
   ],
   "source": [
    "print(df.groupby(['floors'])['floors'].count().sort_values(ascending=False)) \n",
    "#houses mostly have bathrooms between 1 to 2."
   ]
  },
  {
   "cell_type": "code",
   "execution_count": 15,
   "id": "0371380f",
   "metadata": {},
   "outputs": [
    {
     "data": {
      "image/png": "[encoded data removed]",
      "text/plain": [
       "<Figure size 432x288 with 1 Axes>"
      ]
     },
     "metadata": {
      "needs_background": "light"
     },
     "output_type": "display_data"
    }
   ],
   "source": [
    "plt.hist(df['floors']);"
   ]
  },
  {
   "cell_type": "code",
   "execution_count": 16,
   "id": "f76a7090",
   "metadata": {},
   "outputs": [
    {
     "name": "stdout",
     "output_type": "stream",
     "text": [
      "condition\n",
      "3    2875\n",
      "4    1252\n",
      "5     435\n",
      "2      32\n",
      "1       6\n",
      "Name: condition, dtype: int64\n"
     ]
    }
   ],
   "source": [
    "print(df.groupby(['condition'])['condition'].count().sort_values(ascending=False)) \n",
    "#houses mostly have been considered in a good condition."
   ]
  },
  {
   "cell_type": "code",
   "execution_count": 17,
   "id": "7cf518d0",
   "metadata": {},
   "outputs": [
    {
     "data": {
      "image/png": "[encoded data removed]",
      "text/plain": [
       "<Figure size 432x288 with 1 Axes>"
      ]
     },
     "metadata": {
      "needs_background": "light"
     },
     "output_type": "display_data"
    }
   ],
   "source": [
    "plt.hist(df['condition']);"
   ]
  },
  {
   "cell_type": "code",
   "execution_count": 18,
   "id": "591a8ff3",
   "metadata": {},
   "outputs": [
    {
     "name": "stdout",
     "output_type": "stream",
     "text": [
      "view\n",
      "0    4140\n",
      "2     205\n",
      "3     116\n",
      "4      70\n",
      "1      69\n",
      "Name: view, dtype: int64\n"
     ]
    }
   ],
   "source": [
    "print(df.groupby(['view'])['view'].count().sort_values(ascending=False)) \n",
    "#we can say that big proportion of houses has not a great view."
   ]
  },
  {
   "cell_type": "code",
   "execution_count": 19,
   "id": "c8ade381",
   "metadata": {},
   "outputs": [
    {
     "data": {
      "image/png": "[encoded data removed]",
      "text/plain": [
       "<Figure size 432x288 with 1 Axes>"
      ]
     },
     "metadata": {
      "needs_background": "light"
     },
     "output_type": "display_data"
    }
   ],
   "source": [
    "plt.hist(df['view']);"
   ]
  },
  {
   "cell_type": "code",
   "execution_count": 20,
   "id": "f42eabf8",
   "metadata": {},
   "outputs": [
    {
     "name": "stdout",
     "output_type": "stream",
     "text": [
      "waterfront\n",
      "0    4567\n",
      "1      33\n",
      "Name: waterfront, dtype: int64\n"
     ]
    }
   ],
   "source": [
    "print(df.groupby(['waterfront'])['waterfront'].count().sort_values(ascending=False)) "
   ]
  },
  {
   "cell_type": "code",
   "execution_count": 21,
   "id": "bbf43556",
   "metadata": {},
   "outputs": [
    {
     "name": "stdout",
     "output_type": "stream",
     "text": [
      "country\n",
      "USA    4600\n",
      "Name: country, dtype: int64\n"
     ]
    }
   ],
   "source": [
    "print(df.groupby(['country'])['country'].count().sort_values(ascending=False)) "
   ]
  },
  {
   "cell_type": "code",
   "execution_count": 22,
   "id": "c98aa4d9",
   "metadata": {},
   "outputs": [
    {
     "name": "stdout",
     "output_type": "stream",
     "text": [
      "city\n",
      "Seattle                1573\n",
      "Renton                  293\n",
      "Bellevue                286\n",
      "Redmond                 235\n",
      "Issaquah                187\n",
      "Kirkland                187\n",
      "Kent                    185\n",
      "Auburn                  176\n",
      "Sammamish               175\n",
      "Federal Way             148\n",
      "Shoreline               123\n",
      "Woodinville             115\n",
      "Maple Valley             96\n",
      "Mercer Island            86\n",
      "Burien                   74\n",
      "Snoqualmie               71\n",
      "Kenmore                  66\n",
      "Des Moines               58\n",
      "North Bend               50\n",
      "Covington                43\n",
      "Duvall                   42\n",
      "Lake Forest Park         36\n",
      "Bothell                  33\n",
      "Newcastle                33\n",
      "Vashon                   29\n",
      "SeaTac                   29\n",
      "Tukwila                  29\n",
      "Enumclaw                 28\n",
      "Carnation                22\n",
      "Normandy Park            18\n",
      "Clyde Hill               11\n",
      "Fall City                11\n",
      "Medina                   11\n",
      "Black Diamond             9\n",
      "Ravensdale                7\n",
      "Pacific                   6\n",
      "Algona                    5\n",
      "Yarrow Point              4\n",
      "Skykomish                 3\n",
      "Preston                   2\n",
      "Milton                    2\n",
      "Snoqualmie Pass           1\n",
      "Inglewood-Finn Hill       1\n",
      "Beaux Arts Village        1\n",
      "Name: city, dtype: int64\n"
     ]
    }
   ],
   "source": [
    "print(df.groupby(['city'])['city'].count().sort_values(ascending=False)) "
   ]
  },
  {
   "cell_type": "code",
   "execution_count": 23,
   "id": "cc373b88",
   "metadata": {},
   "outputs": [],
   "source": [
    "#data visualization for better understanding & correlation analysis"
   ]
  },
  {
   "cell_type": "code",
   "execution_count": 24,
   "id": "259a5a02",
   "metadata": {},
   "outputs": [
    {
     "data": {
      "image/png": "[encoded data removed]",
      "text/plain": [
       "<Figure size 432x288 with 16 Axes>"
      ]
     },
     "metadata": {
      "needs_background": "light"
     },
     "output_type": "display_data"
    }
   ],
   "source": [
    "df.hist();"
   ]
  },
  {
   "cell_type": "code",
   "execution_count": 25,
   "id": "f4a7e050",
   "metadata": {},
   "outputs": [
    {
     "data": {
      "image/png": "[encoded data removed]",
      "text/plain": [
       "<Figure size 432x288 with 2 Axes>"
      ]
     },
     "metadata": {
      "needs_background": "light"
     },
     "output_type": "display_data"
    }
   ],
   "source": [
    "sns.heatmap(df.corr(), annot= True, fmt='.2f');"
   ]
  },
  {
   "cell_type": "code",
   "execution_count": 26,
   "id": "d93f38a1",
   "metadata": {},
   "outputs": [],
   "source": [
    "#let's answer some questions to gain insights"
   ]
  },
  {
   "cell_type": "code",
   "execution_count": 27,
   "id": "5449b904",
   "metadata": {},
   "outputs": [],
   "source": [
    "# Q1: what percentage of the houses have been renovated?"
   ]
  },
  {
   "cell_type": "code",
   "execution_count": 28,
   "id": "2b4c1775",
   "metadata": {},
   "outputs": [],
   "source": [
    "def renovated_or_not(x):\n",
    "    \n",
    "    #create a renovated flag to show if the house has been renovated or not\n",
    "    df['renovated_flag'] = df['yr_renovated'].apply(lambda x: False if x == 0 else True)\n",
    "    \n",
    "    #count the number of houses which have been renovated\n",
    "    renovated = df.groupby(['renovated_flag'])['renovated_flag'].count()[True]\n",
    "    all = df.count()['renovated_flag']\n",
    "    \n",
    "    print(\"Percentage of houses which have been renovated is \", '{:.2f}%'.format(renovated/all))"
   ]
  },
  {
   "cell_type": "code",
   "execution_count": 29,
   "id": "111e634f",
   "metadata": {},
   "outputs": [
    {
     "name": "stdout",
     "output_type": "stream",
     "text": [
      "Percentage of houses which have been renovated is  0.41%\n"
     ]
    }
   ],
   "source": [
    "renovated_or_not(df)"
   ]
  },
  {
   "cell_type": "code",
   "execution_count": 30,
   "id": "5759b17b",
   "metadata": {},
   "outputs": [],
   "source": [
    "# Q2: Does renovation has a big impact on the condition of a house?"
   ]
  },
  {
   "cell_type": "code",
   "execution_count": 31,
   "id": "3ea7027a",
   "metadata": {},
   "outputs": [],
   "source": [
    "def renovation_impact(x):\n",
    "    avg_yes_renovation = df.groupby(['renovated_flag'])['condition'].mean()[True]\n",
    "    avg_no_renovation = df.groupby(['renovated_flag'])['condition'].mean()[False]\n",
    "    avg_all = df['condition'].mean()\n",
    "    \n",
    "     \n",
    "    if (avg_yes_renovation > avg_no_renovation) & (avg_yes_renovation > avg_all):\n",
    "        print(\"Renovation has a big impact on the condition of a house.\\n Average condition point of a house which has been renovated is\", '{:.2f}'.format(avg_yes_renovation) , \"\\n Average condition point of a house which has not been renovated is\", '{:.2f}'.format(avg_no_renovation) ,  \"\\n Average condition point of all houses no matter if it has been renovated or not is\", '{:.2f}'.format(avg_all))\n",
    "    else:\n",
    "        print(\"Renovation has not a big impact on the condition of a house.\\n Average condition point of a house which has been renovated is\", '{:.2f}'.format(avg_yes_renovation) , \"\\n Average condition point of a house which has not been renovated is\", '{:.2f}'.format(avg_no_renovation) ,  \"\\n Average condition point of all houses no matter if it has been renovated or not is\", '{:.2f}'.format(avg_all))\n"
   ]
  },
  {
   "cell_type": "code",
   "execution_count": 32,
   "id": "b7600929",
   "metadata": {},
   "outputs": [
    {
     "name": "stdout",
     "output_type": "stream",
     "text": [
      "Renovation has not a big impact on the condition of a house.\n",
      " Average condition point of a house which has been renovated is 3.30 \n",
      " Average condition point of a house which has not been renovated is 3.56 \n",
      " Average condition point of all houses no matter if it has been renovated or not is 3.45\n"
     ]
    }
   ],
   "source": [
    "renovation_impact(df)"
   ]
  },
  {
   "cell_type": "code",
   "execution_count": 33,
   "id": "21a16f5f",
   "metadata": {},
   "outputs": [],
   "source": [
    "# Q3: How many households are using more than half of their land as living space and what is the percentage?"
   ]
  },
  {
   "cell_type": "code",
   "execution_count": 34,
   "id": "302d82d5",
   "metadata": {},
   "outputs": [],
   "source": [
    "def living_space(x):\n",
    "    df['surface'] = df['sqft_living'] / df['sqft_lot']\n",
    "    df['surface'] = df['surface'].apply(lambda x: 'large living space' if x > 0.50 else 'narrow living space')\n",
    "\n",
    "    large = df.groupby(['surface'])['surface'].count()['large living space']\n",
    "    all = df['surface'].count()\n",
    "    \n",
    "    print(\"Number of households who are using more than half of their land as living space is \", '{:.2f}'.format(large) , \"and the percentage is \", '{:.2f}%'.format(large/all))"
   ]
  },
  {
   "cell_type": "code",
   "execution_count": 35,
   "id": "e33240f1",
   "metadata": {},
   "outputs": [
    {
     "name": "stdout",
     "output_type": "stream",
     "text": [
      "Number of households who are using more than half of their land as living space is  806.00 and the percentage is  0.18%\n"
     ]
    }
   ],
   "source": [
    "living_space(df)"
   ]
  },
  {
   "cell_type": "code",
   "execution_count": 436,
   "id": "1fd84c46",
   "metadata": {},
   "outputs": [],
   "source": [
    "#let's perform the model for prediction"
   ]
  },
  {
   "cell_type": "code",
   "execution_count": 36,
   "id": "4475f018",
   "metadata": {},
   "outputs": [],
   "source": [
    "#Modeling"
   ]
  },
  {
   "cell_type": "code",
   "execution_count": 37,
   "id": "765c5001",
   "metadata": {},
   "outputs": [],
   "source": [
    "def find_optimal_lm_mod(X, y, cutoffs, test_size = .45, random_state=42, plot=True):\n",
    "    \n",
    "    r2_scores_test, r2_scores_train, num_feats, results = [], [], [], dict() \n",
    "    \n",
    "    for cutoff in cutoffs:\n",
    "        \n",
    "        \n",
    "        #reduce X matris\n",
    "        reduce_X = X.iloc[:, np.where((X.sum() > int(cutoff)) == True)[0]]\n",
    "        num_feats.append(reduce_X.shape[1])\n",
    "        \n",
    "        #split the data into train and test\n",
    "        X_train, X_test, y_train, y_test = train_test_split(reduce_X, y, test_size = .45, random_state=42)\n",
    "        \n",
    "        #global variable definition is crucial if you'll use the same variable out side of this function\n",
    "        global lm_model \n",
    "\n",
    "\n",
    "        #fit the model and obtain pred response\n",
    "        lm_model = LinearRegression(normalize=True)\n",
    "        lm_model.fit(X_train, y_train)\n",
    "        y_test_preds = lm_model.predict(X_test)\n",
    "        y_train_preds = lm_model.predict(X_train)\n",
    "        \n",
    "        #append the r2 value from the test set\n",
    "        r2_scores_test.append(r2_score(y_test, y_test_preds))\n",
    "        r2_scores_train.append(r2_score(y_train, y_train_preds))\n",
    "        results[str(cutoff)] = r2_score(y_test, y_test_preds)\n",
    "        \n",
    "    if plot:\n",
    "        plt.plot(num_feats, r2_scores_test, label= 'Test', alpha=.5)\n",
    "        plt.plot(num_feats, r2_scores_train, label= 'Train', alpha=.5)\n",
    "        plt.xlabel('Number of features')\n",
    "        plt.ylabel('Rsquared')\n",
    "        plt.title('Rsquared by Number of features')\n",
    "        plt.legend(loc=1)\n",
    "        plt.show()\n",
    "        \n",
    "        \n",
    "    best_cutoff = max(results, key=results.get)\n",
    "    \n",
    "    #reduce X matris\n",
    "    reduce_X = X.iloc[:, np.where((X.sum() > int(best_cutoff)) == True)[0]]\n",
    "    \n",
    "    #split the data into train and test\n",
    "    X_train, X_test, y_train, y_test = train_test_split(X, y, test_size=.45, random_state = 42)\n",
    "    \n",
    "    #fit the model\n",
    "    lm_model = LinearRegression(normalize=True)\n",
    "    lm_model.fit(X_train, y_train)\n",
    "    \n",
    "    return r2_scores_test, r2_scores_train, lm_model, X_train, X_test, y_train, y_test"
   ]
  },
  {
   "cell_type": "code",
   "execution_count": 38,
   "id": "db701fa5",
   "metadata": {},
   "outputs": [
    {
     "data": {
      "image/png": "[encoded data removed]",
      "text/plain": [
       "<Figure size 432x288 with 1 Axes>"
      ]
     },
     "metadata": {
      "needs_background": "light"
     },
     "output_type": "display_data"
    }
   ],
   "source": [
    "#cutoffs here pertains to the number of missing values allowed in the used columns\n",
    "#therefore, lower values for the cutoff provides more predictors in the model\n",
    "X = df[['bedrooms','bathrooms','view','sqft_living','floors','sqft_above']]\n",
    "y = df['price']\n",
    "\n",
    "cutoffs = [5000, 3500, 2500, 1000, 100, 50, 30, 25,10,5]\n",
    "\n",
    "r2_scores_test, r2_scores_train, lm_model, X_train, X_test, y_train, y_test = find_optimal_lm_mod(X, y, cutoffs)"
   ]
  },
  {
   "cell_type": "code",
   "execution_count": 39,
   "id": "ecdabaa3",
   "metadata": {},
   "outputs": [],
   "source": [
    "#this function helps us to see which features are more efficient for model to predict the price\n",
    "def coef_weights(coefficients, X_train):\n",
    "    \n",
    "    coefs_df = pd.DataFrame()\n",
    "    coefs_df['est_int'] = X_train.columns\n",
    "    coefs_df['coefs'] = lm_model.coef_\n",
    "    coefs_df['abc_coefs'] = np.abs(lm_model.coef_)\n",
    "    coefs_df = coefs_df.sort_values('abc_coefs', ascending=False)\n",
    "    return coefs_df"
   ]
  },
  {
   "cell_type": "code",
   "execution_count": 40,
   "id": "62734e3e",
   "metadata": {},
   "outputs": [],
   "source": [
    "coefs_df = coef_weights(lm_model.coef_, X_train)"
   ]
  },
  {
   "cell_type": "code",
   "execution_count": 41,
   "id": "c173d2d2",
   "metadata": {},
   "outputs": [
    {
     "data": {
      "text/html": [
       "<div>\n",
       "<style scoped>\n",
       "    .dataframe tbody tr th:only-of-type {\n",
       "        vertical-align: middle;\n",
       "    }\n",
       "\n",
       "    .dataframe tbody tr th {\n",
       "        vertical-align: top;\n",
       "    }\n",
       "\n",
       "    .dataframe thead th {\n",
       "        text-align: right;\n",
       "    }\n",
       "</style>\n",
       "<table border=\"1\" class=\"dataframe\">\n",
       "  <thead>\n",
       "    <tr style=\"text-align: right;\">\n",
       "      <th></th>\n",
       "      <th>est_int</th>\n",
       "      <th>coefs</th>\n",
       "      <th>abc_coefs</th>\n",
       "    </tr>\n",
       "  </thead>\n",
       "  <tbody>\n",
       "    <tr>\n",
       "      <th>2</th>\n",
       "      <td>view</td>\n",
       "      <td>72029.618920</td>\n",
       "      <td>72029.618920</td>\n",
       "    </tr>\n",
       "    <tr>\n",
       "      <th>0</th>\n",
       "      <td>bedrooms</td>\n",
       "      <td>-49565.192626</td>\n",
       "      <td>49565.192626</td>\n",
       "    </tr>\n",
       "    <tr>\n",
       "      <th>4</th>\n",
       "      <td>floors</td>\n",
       "      <td>49351.652507</td>\n",
       "      <td>49351.652507</td>\n",
       "    </tr>\n",
       "    <tr>\n",
       "      <th>1</th>\n",
       "      <td>bathrooms</td>\n",
       "      <td>-35337.052502</td>\n",
       "      <td>35337.052502</td>\n",
       "    </tr>\n",
       "    <tr>\n",
       "      <th>3</th>\n",
       "      <td>sqft_living</td>\n",
       "      <td>307.578123</td>\n",
       "      <td>307.578123</td>\n",
       "    </tr>\n",
       "  </tbody>\n",
       "</table>\n",
       "</div>"
      ],
      "text/plain": [
       "       est_int         coefs     abc_coefs\n",
       "2         view  72029.618920  72029.618920\n",
       "0     bedrooms -49565.192626  49565.192626\n",
       "4       floors  49351.652507  49351.652507\n",
       "1    bathrooms -35337.052502  35337.052502\n",
       "3  sqft_living    307.578123    307.578123"
      ]
     },
     "execution_count": 41,
     "metadata": {},
     "output_type": "execute_result"
    }
   ],
   "source": [
    "coefs_df.head()"
   ]
  },
  {
   "cell_type": "code",
   "execution_count": 42,
   "id": "cba9042d",
   "metadata": {},
   "outputs": [],
   "source": [
    "y_test_preds = lm_model.predict(X_test)"
   ]
  },
  {
   "cell_type": "code",
   "execution_count": 43,
   "id": "4820f18d",
   "metadata": {},
   "outputs": [
    {
     "data": {
      "text/plain": [
       "'The r square score for the model using only quantitative variables was 0.10774889551306044 on 2070 values'"
      ]
     },
     "execution_count": 43,
     "metadata": {},
     "output_type": "execute_result"
    }
   ],
   "source": [
    "#r square is a statistical measure that represents the goodness of fit. the best possible score is 1.0\n",
    "\"The r square score for the model using only quantitative variables was {} on {} values\".format(r2_score(y_test,y_test_preds), len(y_test))"
   ]
  },
  {
   "cell_type": "code",
   "execution_count": 44,
   "id": "c9424dbe",
   "metadata": {},
   "outputs": [],
   "source": [
    "y_train_preds = lm_model.predict(X_train)"
   ]
  },
  {
   "cell_type": "code",
   "execution_count": 45,
   "id": "3c1639fa",
   "metadata": {},
   "outputs": [
    {
     "data": {
      "text/plain": [
       "'The r square score for the model using only quantitative variables was 0.47582445012100416 on 2530 values'"
      ]
     },
     "execution_count": 45,
     "metadata": {},
     "output_type": "execute_result"
    }
   ],
   "source": [
    "#r square is a statistical measure that represents the goodness of fit. the best possible score is 1.0\n",
    "\"The r square score for the model using only quantitative variables was {} on {} values\".format(r2_score(y_train,y_train_preds), len(y_train))"
   ]
  },
  {
   "cell_type": "code",
   "execution_count": null,
   "id": "cf2f0521",
   "metadata": {},
   "outputs": [],
   "source": [
    "#Evaluation\n",
    "#Our coefficient analysis shows us that view and number of bedrooms of a house have a big impact \n",
    "#on the price of a house."
   ]
  }
 ],
 "metadata": {
  "kernelspec": {
   "display_name": "Python 3",
   "language": "python",
   "name": "python3"
  },
  "language_info": {
   "codemirror_mode": {
    "name": "ipython",
    "version": 3
   },
   "file_extension": ".py",
   "mimetype": "text/x-python",
   "name": "python",
   "nbconvert_exporter": "python",
   "pygments_lexer": "ipython3",
   "version": "3.8.8"
  }
 },
 "nbformat": 4,
 "nbformat_minor": 5
}
